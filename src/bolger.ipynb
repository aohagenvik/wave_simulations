{
 "cells": [
  {
   "cell_type": "markdown",
   "id": "299c31ca",
   "metadata": {},
   "source": [
    "# Bølgefenomener\n",
    "Kodeblokken nedenfor importerer funksjoner fra fila bolger.py. Den andre linja gjør at plot vises i notebooken (her)."
   ]
  },
  {
   "cell_type": "code",
   "execution_count": null,
   "id": "19a2b476",
   "metadata": {},
   "outputs": [],
   "source": [
    "import WaveSimulations as bolger         \n",
    "%matplotlib notebook    "
   ]
  },
  {
   "cell_type": "markdown",
   "id": "896a49fb",
   "metadata": {},
   "source": [
    "## Bølge i ro\n",
    "Kodeblokken nedenfor skal plotte en bølge. Forsøk å justere (endre tall) på amplituden og bølgelengden.\n",
    "\n",
    "For å kjøre kodeblokken på ny etter en endring trykker du på Run i menyen ovenfor."
   ]
  },
  {
   "cell_type": "code",
   "execution_count": null,
   "id": "747304a7",
   "metadata": {
    "scrolled": true
   },
   "outputs": [],
   "source": [
    "bolge = bolger.Bolge(amplitude=1, bolgelengde=0.25)\n",
    "\n",
    "bolge.plot_1d_bolge()"
   ]
  },
  {
   "cell_type": "markdown",
   "id": "d5995e6b",
   "metadata": {},
   "source": [
    "## Bølge i bevegelse\n",
    "Kodeblokken nedenfor skal plotte en bølge som beveger seg. Forsøk å justere på bølgefarten. Klarer du få bølgen til å bevege seg bakover?"
   ]
  },
  {
   "cell_type": "code",
   "execution_count": null,
   "id": "703b9bb9",
   "metadata": {},
   "outputs": [],
   "source": [
    "bolge.bolgefart = 0.01\n",
    "bolge.bevegende_bolge()"
   ]
  },
  {
   "cell_type": "markdown",
   "id": "c99a550f",
   "metadata": {},
   "source": [
    "## Refleksjon\n",
    "Kodeblokken nedenfor skal plotte en bølge som beveger fra et materiale inn i et annet. Forsøk å justere på refleksjonen r, fra 0 (ingen refleksjon) til 1 (alt reflekteres).\n",
    "\n",
    "Refleksjon oppstår når en bølge treffer en grenseflate mellom to ulike materialer."
   ]
  },
  {
   "cell_type": "code",
   "execution_count": null,
   "id": "37505f37",
   "metadata": {},
   "outputs": [],
   "source": [
    "bolge.refleksjonskoeffisient = 0.2\n",
    "bolge.refleksjon()"
   ]
  },
  {
   "cell_type": "markdown",
   "id": "c3f3d12b",
   "metadata": {},
   "source": [
    "## Brytningsindeks\n",
    "Brytningsindeksen til et materiale beskriver hvordan lys (elektromagnetiske bølger) beveger seg i et materiale. \n",
    "\n",
    "Forskjellen i brytningsindeks mellom to materialer avgjør hvor mye som reflekteres. I kodeblokken nedenfor kan brytningsindeksen i materialet til høyre (x > 1) justeres på."
   ]
  },
  {
   "cell_type": "code",
   "execution_count": null,
   "id": "12e51c9a",
   "metadata": {},
   "outputs": [],
   "source": [
    "bolge.brytningsindeks = 1.333 #Vann\n",
    "bolge.refleksjon()"
   ]
  },
  {
   "cell_type": "markdown",
   "id": "fe00fd46",
   "metadata": {},
   "source": [
    "## Brytning\n",
    "I to dimensjoner med skrått innfall. Bølgen i materialet til høyre endrer retning. "
   ]
  },
  {
   "cell_type": "code",
   "execution_count": null,
   "id": "75054a89",
   "metadata": {},
   "outputs": [],
   "source": [
    "bolge.brytningsindeks = 1.5\n",
    "bolge.brytning()"
   ]
  },
  {
   "cell_type": "markdown",
   "id": "8cd3a749",
   "metadata": {},
   "source": [
    "## Doppler effekt\n",
    "\n"
   ]
  },
  {
   "cell_type": "markdown",
   "id": "89a18c1f",
   "metadata": {},
   "source": [
    "## Ressonans"
   ]
  },
  {
   "cell_type": "code",
   "execution_count": null,
   "id": "c1ecbef9",
   "metadata": {},
   "outputs": [],
   "source": []
  }
 ],
 "metadata": {
  "kernelspec": {
   "display_name": "Python 3 (ipykernel)",
   "language": "python",
   "name": "python3"
  },
  "language_info": {
   "codemirror_mode": {
    "name": "ipython",
    "version": 3
   },
   "file_extension": ".py",
   "mimetype": "text/x-python",
   "name": "python",
   "nbconvert_exporter": "python",
   "pygments_lexer": "ipython3",
   "version": "3.9.12"
  }
 },
 "nbformat": 4,
 "nbformat_minor": 5
}
